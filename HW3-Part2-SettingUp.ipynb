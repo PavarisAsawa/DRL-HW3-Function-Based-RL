{
 "cells": [
  {
   "cell_type": "markdown",
   "metadata": {},
   "source": [
    "# **Part 2: Setting up `Cart-Pole` Agent.**\n"
   ]
  },
  {
   "cell_type": "markdown",
   "metadata": {},
   "source": [
    "- **`Name`** : **Pavaris Asawakijtananont**\n",
    "\n",
    "- **`Number`** : **65340500037**"
   ]
  },
  {
   "cell_type": "markdown",
   "metadata": {},
   "source": [
    "## **Base Class**"
   ]
  },
  {
   "cell_type": "markdown",
   "metadata": {},
   "source": [
    "##### **q**\n",
    "- calling the action value with using linear approximator to use with Linear Q Learning \n",
    "\n",
    "```python\n",
    "    def q(self, obs, a=None):\n",
    "        \"\"\"Returns the linearly-estimated Q-value for a given state and action.\"\"\"\n",
    "        obs_val = obs['policy'][0].detach().cpu().numpy()\n",
    "        if a==None:\n",
    "            # Get q values from all action in state\n",
    "            return np.dot(obs_val, self.w)\n",
    "        else:\n",
    "            # Get q values given action & state\n",
    "            return np.dot(obs_val, self.w[:, a])\n",
    "        # ====================================== #\n",
    "```"
   ]
  },
  {
   "cell_type": "markdown",
   "metadata": {},
   "source": [
    "##### **Scale Action**\n",
    "```python\n",
    "    def scale_action(self, action):\n",
    "        return torch.tensor([[action * ((self.action_range[1] - self.action_range[0]) / (self.num_of_action-1 )) + self.action_range[0]]])\n",
    "```"
   ]
  },
  {
   "cell_type": "markdown",
   "metadata": {},
   "source": [
    "##### **Select Action**\n",
    "```python\n",
    "    def select_action(self, state):\n",
    "        \"\"\" Select an action based on an epsilon-greedy policy. \"\"\"\n",
    "        if np.random.rand() < self.epsilon:\n",
    "            return np.random.randint(0, self.num_of_action)\n",
    "        else:\n",
    "            # Exploitation: choose the action with the highest estimated Q-value\n",
    "            return np.argmax(self.q(state))\n",
    "```"
   ]
  },
  {
   "cell_type": "markdown",
   "metadata": {},
   "source": [
    "## **Linear Q Learning**\n"
   ]
  }
 ],
 "metadata": {
  "language_info": {
   "name": "python"
  }
 },
 "nbformat": 4,
 "nbformat_minor": 2
}
