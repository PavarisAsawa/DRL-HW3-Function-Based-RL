{
 "cells": [
  {
   "cell_type": "markdown",
   "metadata": {},
   "source": [
    "# **Part 4: Evaluate `Cart-Pole` Agent.**\n",
    "\n",
    "- **`Name`** : **Pavaris Asawakijtananont**\n",
    "\n",
    "- **`Number`** : **65340500037**"
   ]
  },
  {
   "cell_type": "markdown",
   "metadata": {},
   "source": [
    "PPO\n",
    "- Normal\n",
    "- LR : 04 05\n",
    "- normalize and not normalize : 05 -> 06 (06 )"
   ]
  },
  {
   "cell_type": "markdown",
   "metadata": {},
   "source": [
    "Linear Q\n",
    "- 0\n",
    "- 1 : adjust action space"
   ]
  },
  {
   "cell_type": "markdown",
   "metadata": {},
   "source": [
    "DQN\n",
    "- DQN1_0 : Base\n",
    "- DQN1_1 : Base add batch size\n",
    "- DQN1_2 : reduce learning rate"
   ]
  },
  {
   "cell_type": "markdown",
   "metadata": {},
   "source": [
    "REINFORCE"
   ]
  }
 ],
 "metadata": {
  "language_info": {
   "name": "python"
  }
 },
 "nbformat": 4,
 "nbformat_minor": 2
}
