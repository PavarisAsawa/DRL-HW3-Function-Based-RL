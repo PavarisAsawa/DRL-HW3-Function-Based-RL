{
 "cells": [
  {
   "cell_type": "markdown",
   "metadata": {},
   "source": [
    "PPO\n",
    "- Normal\n",
    "- LR : 04 05\n",
    "- normalize and not normalize : 05 -> 06 (06 )"
   ]
  }
 ],
 "metadata": {
  "language_info": {
   "name": "python"
  }
 },
 "nbformat": 4,
 "nbformat_minor": 2
}
